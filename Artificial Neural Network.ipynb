{
 "cells": [
  {
   "cell_type": "code",
   "execution_count": 1,
   "id": "ad80942b",
   "metadata": {},
   "outputs": [],
   "source": [
    "# Importing the libraries\n",
    "import numpy as np\n",
    "import matplotlib.pyplot as plt\n",
    "import pandas as pd\n"
   ]
  },
  {
   "cell_type": "code",
   "execution_count": 2,
   "id": "272e9980",
   "metadata": {},
   "outputs": [],
   "source": [
    "# Importing the dataset\n",
    "dataset = pd.read_csv('Churn_Modelling.csv')\n",
    "X = dataset.iloc[:, 3:13]\n",
    "y = dataset.iloc[:, 13]"
   ]
  },
  {
   "cell_type": "code",
   "execution_count": 3,
   "id": "60248d1a",
   "metadata": {},
   "outputs": [],
   "source": [
    "#Create dummy variables\n",
    "geography=pd.get_dummies(X[\"Geography\"],drop_first=True)\n",
    "gender=pd.get_dummies(X['Gender'],drop_first=True)"
   ]
  },
  {
   "cell_type": "code",
   "execution_count": 4,
   "id": "fee5ccf9",
   "metadata": {},
   "outputs": [],
   "source": [
    "## Concatenate the Data Frames\n",
    "\n",
    "X=pd.concat([X,geography,gender],axis=1)"
   ]
  },
  {
   "cell_type": "code",
   "execution_count": 5,
   "id": "98f6f3a9",
   "metadata": {},
   "outputs": [],
   "source": [
    "## Drop Unnecessary columns\n",
    "X=X.drop(['Geography','Gender'],axis=1)"
   ]
  },
  {
   "cell_type": "code",
   "execution_count": 6,
   "id": "98be09dd",
   "metadata": {},
   "outputs": [],
   "source": [
    "# Splitting the dataset into the Training set and Test set\n",
    "from sklearn.model_selection import train_test_split\n",
    "X_train, X_test, y_train, y_test = train_test_split(X, y, test_size = 0.2, random_state = 0)"
   ]
  },
  {
   "cell_type": "code",
   "execution_count": 7,
   "id": "bc9cd2c4",
   "metadata": {},
   "outputs": [
    {
     "data": {
      "text/plain": [
       "(8000, 11)"
      ]
     },
     "execution_count": 7,
     "metadata": {},
     "output_type": "execute_result"
    }
   ],
   "source": [
    "# Feature Scaling\n",
    "from sklearn.preprocessing import StandardScaler\n",
    "sc = StandardScaler()\n",
    "X_train = sc.fit_transform(X_train)\n",
    "X_test = sc.transform(X_test)\n",
    "X_train.shape\n"
   ]
  },
  {
   "cell_type": "markdown",
   "id": "8a162080",
   "metadata": {},
   "source": [
    "## Part 2 - Now let's make the ANN!"
   ]
  },
  {
   "cell_type": "code",
   "execution_count": 8,
   "id": "c916860a",
   "metadata": {},
   "outputs": [],
   "source": [
    "# Importing the Keras libraries and packages\n",
    "import keras\n",
    "from keras.models import Sequential\n",
    "from keras.layers import Dense\n",
    "from keras.layers import LeakyReLU,PReLU,ELU\n",
    "from keras.layers import Dropout"
   ]
  },
  {
   "cell_type": "code",
   "execution_count": 9,
   "id": "d57b3bcf",
   "metadata": {},
   "outputs": [],
   "source": [
    "# Initialising the ANN\n",
    "classifier = Sequential()"
   ]
  },
  {
   "cell_type": "code",
   "execution_count": 10,
   "id": "31549d91",
   "metadata": {},
   "outputs": [],
   "source": [
    "# Adding the input layer and the first hidden layer\n",
    "classifier.add(Dense(units = 6, kernel_initializer = 'he_uniform',activation='relu',input_dim = 11))"
   ]
  },
  {
   "cell_type": "code",
   "execution_count": 11,
   "id": "eaf58b5c",
   "metadata": {},
   "outputs": [],
   "source": [
    "# Adding the second hidden layer\n",
    "classifier.add(Dense(units = 6, kernel_initializer = 'he_uniform',activation='relu'))"
   ]
  },
  {
   "cell_type": "code",
   "execution_count": 12,
   "id": "45d92be9",
   "metadata": {},
   "outputs": [],
   "source": [
    "# Adding the output layer\n",
    "classifier.add(Dense(units = 1, kernel_initializer = 'glorot_uniform', activation = 'sigmoid'))"
   ]
  },
  {
   "cell_type": "code",
   "execution_count": 13,
   "id": "70a37c64",
   "metadata": {},
   "outputs": [],
   "source": [
    "# Compiling the ANN\n",
    "classifier.compile(optimizer = 'Adamax', loss = 'binary_crossentropy', metrics = ['accuracy'])"
   ]
  },
  {
   "cell_type": "code",
   "execution_count": 14,
   "id": "70371562",
   "metadata": {},
   "outputs": [
    {
     "name": "stdout",
     "output_type": "stream",
     "text": [
      "Epoch 1/100\n",
      "536/536 [==============================] - 1s 1ms/step - loss: 0.7227 - accuracy: 0.5703 - val_loss: 0.5755 - val_accuracy: 0.7539\n",
      "Epoch 2/100\n",
      "536/536 [==============================] - 0s 778us/step - loss: 0.5162 - accuracy: 0.7768 - val_loss: 0.4828 - val_accuracy: 0.7883\n",
      "Epoch 3/100\n",
      "536/536 [==============================] - 0s 793us/step - loss: 0.4690 - accuracy: 0.7944 - val_loss: 0.4618 - val_accuracy: 0.7936\n",
      "Epoch 4/100\n",
      "536/536 [==============================] - 0s 793us/step - loss: 0.4541 - accuracy: 0.7970 - val_loss: 0.4523 - val_accuracy: 0.7963\n",
      "Epoch 5/100\n",
      "536/536 [==============================] - 0s 807us/step - loss: 0.4452 - accuracy: 0.8000 - val_loss: 0.4458 - val_accuracy: 0.7986\n",
      "Epoch 6/100\n",
      "536/536 [==============================] - 0s 808us/step - loss: 0.4384 - accuracy: 0.8031 - val_loss: 0.4412 - val_accuracy: 0.7989\n",
      "Epoch 7/100\n",
      "536/536 [==============================] - 0s 811us/step - loss: 0.4332 - accuracy: 0.8052 - val_loss: 0.4382 - val_accuracy: 0.8001\n",
      "Epoch 8/100\n",
      "536/536 [==============================] - 0s 793us/step - loss: 0.4291 - accuracy: 0.8074 - val_loss: 0.4358 - val_accuracy: 0.7993\n",
      "Epoch 9/100\n",
      "536/536 [==============================] - 0s 793us/step - loss: 0.4258 - accuracy: 0.8074 - val_loss: 0.4336 - val_accuracy: 0.8008\n",
      "Epoch 10/100\n",
      "536/536 [==============================] - 0s 807us/step - loss: 0.4227 - accuracy: 0.8100 - val_loss: 0.4319 - val_accuracy: 0.8012\n",
      "Epoch 11/100\n",
      "536/536 [==============================] - 0s 807us/step - loss: 0.4198 - accuracy: 0.8132 - val_loss: 0.4303 - val_accuracy: 0.8027\n",
      "Epoch 12/100\n",
      "536/536 [==============================] - 0s 807us/step - loss: 0.4172 - accuracy: 0.8128 - val_loss: 0.4288 - val_accuracy: 0.8039\n",
      "Epoch 13/100\n",
      "536/536 [==============================] - 0s 807us/step - loss: 0.4147 - accuracy: 0.8141 - val_loss: 0.4268 - val_accuracy: 0.8042\n",
      "Epoch 14/100\n",
      "536/536 [==============================] - 0s 807us/step - loss: 0.4122 - accuracy: 0.8166 - val_loss: 0.4254 - val_accuracy: 0.8069\n",
      "Epoch 15/100\n",
      "536/536 [==============================] - 0s 793us/step - loss: 0.4099 - accuracy: 0.8168 - val_loss: 0.4238 - val_accuracy: 0.8073\n",
      "Epoch 16/100\n",
      "536/536 [==============================] - 0s 793us/step - loss: 0.4078 - accuracy: 0.8199 - val_loss: 0.4225 - val_accuracy: 0.8099\n",
      "Epoch 17/100\n",
      "536/536 [==============================] - 0s 793us/step - loss: 0.4058 - accuracy: 0.8203 - val_loss: 0.4211 - val_accuracy: 0.8088\n",
      "Epoch 18/100\n",
      "536/536 [==============================] - 0s 807us/step - loss: 0.4037 - accuracy: 0.8238 - val_loss: 0.4200 - val_accuracy: 0.8095\n",
      "Epoch 19/100\n",
      "536/536 [==============================] - 0s 793us/step - loss: 0.4015 - accuracy: 0.8225 - val_loss: 0.4184 - val_accuracy: 0.8126\n",
      "Epoch 20/100\n",
      "536/536 [==============================] - 0s 794us/step - loss: 0.3994 - accuracy: 0.8253 - val_loss: 0.4166 - val_accuracy: 0.8129\n",
      "Epoch 21/100\n",
      "536/536 [==============================] - 0s 794us/step - loss: 0.3970 - accuracy: 0.8272 - val_loss: 0.4147 - val_accuracy: 0.8148\n",
      "Epoch 22/100\n",
      "536/536 [==============================] - 0s 807us/step - loss: 0.3948 - accuracy: 0.8289 - val_loss: 0.4128 - val_accuracy: 0.8186\n",
      "Epoch 23/100\n",
      "536/536 [==============================] - 0s 807us/step - loss: 0.3923 - accuracy: 0.8317 - val_loss: 0.4113 - val_accuracy: 0.8190\n",
      "Epoch 24/100\n",
      "536/536 [==============================] - 0s 823us/step - loss: 0.3902 - accuracy: 0.8339 - val_loss: 0.4092 - val_accuracy: 0.8209\n",
      "Epoch 25/100\n",
      "536/536 [==============================] - 0s 822us/step - loss: 0.3881 - accuracy: 0.8364 - val_loss: 0.4070 - val_accuracy: 0.8205\n",
      "Epoch 26/100\n",
      "536/536 [==============================] - 0s 808us/step - loss: 0.3859 - accuracy: 0.8386 - val_loss: 0.4051 - val_accuracy: 0.8201\n",
      "Epoch 27/100\n",
      "536/536 [==============================] - 0s 807us/step - loss: 0.3839 - accuracy: 0.8401 - val_loss: 0.4034 - val_accuracy: 0.8213\n",
      "Epoch 28/100\n",
      "536/536 [==============================] - 0s 790us/step - loss: 0.3818 - accuracy: 0.8410 - val_loss: 0.4014 - val_accuracy: 0.8224\n",
      "Epoch 29/100\n",
      "536/536 [==============================] - 0s 807us/step - loss: 0.3799 - accuracy: 0.8412 - val_loss: 0.3991 - val_accuracy: 0.8243\n",
      "Epoch 30/100\n",
      "536/536 [==============================] - 0s 785us/step - loss: 0.3779 - accuracy: 0.8431 - val_loss: 0.3976 - val_accuracy: 0.8258\n",
      "Epoch 31/100\n",
      "536/536 [==============================] - 0s 810us/step - loss: 0.3759 - accuracy: 0.8431 - val_loss: 0.3959 - val_accuracy: 0.8239\n",
      "Epoch 32/100\n",
      "536/536 [==============================] - 0s 796us/step - loss: 0.3740 - accuracy: 0.8472 - val_loss: 0.3938 - val_accuracy: 0.8289\n",
      "Epoch 33/100\n",
      "536/536 [==============================] - 0s 784us/step - loss: 0.3722 - accuracy: 0.8475 - val_loss: 0.3919 - val_accuracy: 0.8289\n",
      "Epoch 34/100\n",
      "536/536 [==============================] - 0s 811us/step - loss: 0.3705 - accuracy: 0.8481 - val_loss: 0.3906 - val_accuracy: 0.8315\n",
      "Epoch 35/100\n",
      "536/536 [==============================] - 0s 791us/step - loss: 0.3687 - accuracy: 0.8490 - val_loss: 0.3887 - val_accuracy: 0.8334\n",
      "Epoch 36/100\n",
      "536/536 [==============================] - 0s 796us/step - loss: 0.3670 - accuracy: 0.8494 - val_loss: 0.3872 - val_accuracy: 0.8334\n",
      "Epoch 37/100\n",
      "536/536 [==============================] - 0s 781us/step - loss: 0.3652 - accuracy: 0.8500 - val_loss: 0.3856 - val_accuracy: 0.8338\n",
      "Epoch 38/100\n",
      "536/536 [==============================] - 0s 780us/step - loss: 0.3636 - accuracy: 0.8503 - val_loss: 0.3840 - val_accuracy: 0.8349\n",
      "Epoch 39/100\n",
      "536/536 [==============================] - 0s 785us/step - loss: 0.3622 - accuracy: 0.8520 - val_loss: 0.3831 - val_accuracy: 0.8353\n",
      "Epoch 40/100\n",
      "536/536 [==============================] - 0s 804us/step - loss: 0.3607 - accuracy: 0.8530 - val_loss: 0.3818 - val_accuracy: 0.8376\n",
      "Epoch 41/100\n",
      "536/536 [==============================] - 0s 784us/step - loss: 0.3595 - accuracy: 0.8533 - val_loss: 0.3807 - val_accuracy: 0.8368\n",
      "Epoch 42/100\n",
      "536/536 [==============================] - 0s 790us/step - loss: 0.3580 - accuracy: 0.8539 - val_loss: 0.3795 - val_accuracy: 0.8379\n",
      "Epoch 43/100\n",
      "536/536 [==============================] - 0s 791us/step - loss: 0.3571 - accuracy: 0.8537 - val_loss: 0.3787 - val_accuracy: 0.8383\n",
      "Epoch 44/100\n",
      "536/536 [==============================] - 0s 788us/step - loss: 0.3558 - accuracy: 0.8543 - val_loss: 0.3778 - val_accuracy: 0.8398\n",
      "Epoch 45/100\n",
      "536/536 [==============================] - 0s 791us/step - loss: 0.3547 - accuracy: 0.8546 - val_loss: 0.3772 - val_accuracy: 0.8395\n",
      "Epoch 46/100\n",
      "536/536 [==============================] - 0s 784us/step - loss: 0.3537 - accuracy: 0.8541 - val_loss: 0.3764 - val_accuracy: 0.8417\n",
      "Epoch 47/100\n",
      "536/536 [==============================] - 0s 799us/step - loss: 0.3527 - accuracy: 0.8558 - val_loss: 0.3755 - val_accuracy: 0.8421\n",
      "Epoch 48/100\n",
      "536/536 [==============================] - 0s 796us/step - loss: 0.3519 - accuracy: 0.8559 - val_loss: 0.3750 - val_accuracy: 0.8413\n",
      "Epoch 49/100\n",
      "536/536 [==============================] - 0s 810us/step - loss: 0.3511 - accuracy: 0.8554 - val_loss: 0.3743 - val_accuracy: 0.8432\n",
      "Epoch 50/100\n",
      "536/536 [==============================] - 0s 789us/step - loss: 0.3503 - accuracy: 0.8567 - val_loss: 0.3739 - val_accuracy: 0.8429\n",
      "Epoch 51/100\n",
      "536/536 [==============================] - 0s 794us/step - loss: 0.3496 - accuracy: 0.8558 - val_loss: 0.3732 - val_accuracy: 0.8425\n",
      "Epoch 52/100\n",
      "536/536 [==============================] - 0s 774us/step - loss: 0.3490 - accuracy: 0.8572 - val_loss: 0.3727 - val_accuracy: 0.8436\n",
      "Epoch 53/100\n",
      "536/536 [==============================] - 0s 787us/step - loss: 0.3484 - accuracy: 0.8567 - val_loss: 0.3722 - val_accuracy: 0.8455\n",
      "Epoch 54/100\n",
      "536/536 [==============================] - 0s 825us/step - loss: 0.3479 - accuracy: 0.8567 - val_loss: 0.3716 - val_accuracy: 0.8451\n",
      "Epoch 55/100\n",
      "536/536 [==============================] - 0s 776us/step - loss: 0.3474 - accuracy: 0.8569 - val_loss: 0.3715 - val_accuracy: 0.8455\n",
      "Epoch 56/100\n",
      "536/536 [==============================] - 0s 837us/step - loss: 0.3469 - accuracy: 0.8574 - val_loss: 0.3709 - val_accuracy: 0.8466\n",
      "Epoch 57/100\n"
     ]
    },
    {
     "name": "stdout",
     "output_type": "stream",
     "text": [
      "536/536 [==============================] - 0s 835us/step - loss: 0.3464 - accuracy: 0.8572 - val_loss: 0.3705 - val_accuracy: 0.8463\n",
      "Epoch 58/100\n",
      "536/536 [==============================] - 0s 835us/step - loss: 0.3460 - accuracy: 0.8582 - val_loss: 0.3702 - val_accuracy: 0.8470\n",
      "Epoch 59/100\n",
      "536/536 [==============================] - 1s 976us/step - loss: 0.3456 - accuracy: 0.8595 - val_loss: 0.3693 - val_accuracy: 0.8474\n",
      "Epoch 60/100\n",
      "536/536 [==============================] - 0s 837us/step - loss: 0.3453 - accuracy: 0.8576 - val_loss: 0.3693 - val_accuracy: 0.8482\n",
      "Epoch 61/100\n",
      "536/536 [==============================] - 0s 822us/step - loss: 0.3449 - accuracy: 0.8582 - val_loss: 0.3690 - val_accuracy: 0.8474\n",
      "Epoch 62/100\n",
      "536/536 [==============================] - 0s 810us/step - loss: 0.3445 - accuracy: 0.8576 - val_loss: 0.3693 - val_accuracy: 0.8474\n",
      "Epoch 63/100\n",
      "536/536 [==============================] - 0s 852us/step - loss: 0.3443 - accuracy: 0.8580 - val_loss: 0.3688 - val_accuracy: 0.8482\n",
      "Epoch 64/100\n",
      "536/536 [==============================] - 0s 818us/step - loss: 0.3439 - accuracy: 0.8576 - val_loss: 0.3681 - val_accuracy: 0.8508\n",
      "Epoch 65/100\n",
      "536/536 [==============================] - 0s 806us/step - loss: 0.3435 - accuracy: 0.8589 - val_loss: 0.3683 - val_accuracy: 0.8482\n",
      "Epoch 66/100\n",
      "536/536 [==============================] - 0s 800us/step - loss: 0.3434 - accuracy: 0.8580 - val_loss: 0.3679 - val_accuracy: 0.8493\n",
      "Epoch 67/100\n",
      "536/536 [==============================] - 0s 789us/step - loss: 0.3430 - accuracy: 0.8593 - val_loss: 0.3674 - val_accuracy: 0.8493\n",
      "Epoch 68/100\n",
      "536/536 [==============================] - 0s 805us/step - loss: 0.3426 - accuracy: 0.8586 - val_loss: 0.3673 - val_accuracy: 0.8508\n",
      "Epoch 69/100\n",
      "536/536 [==============================] - 0s 810us/step - loss: 0.3423 - accuracy: 0.8595 - val_loss: 0.3673 - val_accuracy: 0.8493\n",
      "Epoch 70/100\n",
      "536/536 [==============================] - 0s 852us/step - loss: 0.3420 - accuracy: 0.8595 - val_loss: 0.3667 - val_accuracy: 0.8508\n",
      "Epoch 71/100\n",
      "536/536 [==============================] - 0s 793us/step - loss: 0.3418 - accuracy: 0.8595 - val_loss: 0.3665 - val_accuracy: 0.8497\n",
      "Epoch 72/100\n",
      "536/536 [==============================] - 0s 793us/step - loss: 0.3417 - accuracy: 0.8589 - val_loss: 0.3664 - val_accuracy: 0.8516\n",
      "Epoch 73/100\n",
      "536/536 [==============================] - 0s 822us/step - loss: 0.3413 - accuracy: 0.8597 - val_loss: 0.3661 - val_accuracy: 0.8512\n",
      "Epoch 74/100\n",
      "536/536 [==============================] - 0s 807us/step - loss: 0.3410 - accuracy: 0.8597 - val_loss: 0.3659 - val_accuracy: 0.8512\n",
      "Epoch 75/100\n",
      "536/536 [==============================] - 0s 837us/step - loss: 0.3407 - accuracy: 0.8586 - val_loss: 0.3659 - val_accuracy: 0.8512\n",
      "Epoch 76/100\n",
      "536/536 [==============================] - 0s 793us/step - loss: 0.3404 - accuracy: 0.8610 - val_loss: 0.3656 - val_accuracy: 0.8516\n",
      "Epoch 77/100\n",
      "536/536 [==============================] - 0s 837us/step - loss: 0.3403 - accuracy: 0.8597 - val_loss: 0.3653 - val_accuracy: 0.8523\n",
      "Epoch 78/100\n",
      "536/536 [==============================] - 0s 793us/step - loss: 0.3400 - accuracy: 0.8606 - val_loss: 0.3651 - val_accuracy: 0.8516\n",
      "Epoch 79/100\n",
      "536/536 [==============================] - 0s 867us/step - loss: 0.3396 - accuracy: 0.8597 - val_loss: 0.3657 - val_accuracy: 0.8501\n",
      "Epoch 80/100\n",
      "536/536 [==============================] - 0s 837us/step - loss: 0.3394 - accuracy: 0.8604 - val_loss: 0.3650 - val_accuracy: 0.8523\n",
      "Epoch 81/100\n",
      "536/536 [==============================] - 0s 897us/step - loss: 0.3392 - accuracy: 0.8600 - val_loss: 0.3647 - val_accuracy: 0.8531\n",
      "Epoch 82/100\n",
      "536/536 [==============================] - 0s 852us/step - loss: 0.3389 - accuracy: 0.8589 - val_loss: 0.3648 - val_accuracy: 0.8523\n",
      "Epoch 83/100\n",
      "536/536 [==============================] - 0s 793us/step - loss: 0.3386 - accuracy: 0.8597 - val_loss: 0.3642 - val_accuracy: 0.8531\n",
      "Epoch 84/100\n",
      "536/536 [==============================] - 0s 793us/step - loss: 0.3382 - accuracy: 0.8597 - val_loss: 0.3639 - val_accuracy: 0.8535\n",
      "Epoch 85/100\n",
      "536/536 [==============================] - 0s 793us/step - loss: 0.3380 - accuracy: 0.8593 - val_loss: 0.3642 - val_accuracy: 0.8523\n",
      "Epoch 86/100\n",
      "536/536 [==============================] - 0s 793us/step - loss: 0.3378 - accuracy: 0.8614 - val_loss: 0.3637 - val_accuracy: 0.8538\n",
      "Epoch 87/100\n",
      "536/536 [==============================] - 0s 822us/step - loss: 0.3375 - accuracy: 0.8589 - val_loss: 0.3635 - val_accuracy: 0.8535\n",
      "Epoch 88/100\n",
      "536/536 [==============================] - 0s 822us/step - loss: 0.3374 - accuracy: 0.8612 - val_loss: 0.3633 - val_accuracy: 0.8523\n",
      "Epoch 89/100\n",
      "536/536 [==============================] - 0s 807us/step - loss: 0.3371 - accuracy: 0.8597 - val_loss: 0.3633 - val_accuracy: 0.8527\n",
      "Epoch 90/100\n",
      "536/536 [==============================] - 0s 837us/step - loss: 0.3367 - accuracy: 0.8593 - val_loss: 0.3636 - val_accuracy: 0.8546\n",
      "Epoch 91/100\n",
      "536/536 [==============================] - 0s 837us/step - loss: 0.3366 - accuracy: 0.8604 - val_loss: 0.3631 - val_accuracy: 0.8535\n",
      "Epoch 92/100\n",
      "536/536 [==============================] - 0s 807us/step - loss: 0.3363 - accuracy: 0.8606 - val_loss: 0.3624 - val_accuracy: 0.8527\n",
      "Epoch 93/100\n",
      "536/536 [==============================] - 0s 793us/step - loss: 0.3362 - accuracy: 0.8600 - val_loss: 0.3620 - val_accuracy: 0.8523\n",
      "Epoch 94/100\n",
      "536/536 [==============================] - 0s 808us/step - loss: 0.3360 - accuracy: 0.8608 - val_loss: 0.3618 - val_accuracy: 0.8531\n",
      "Epoch 95/100\n",
      "536/536 [==============================] - 0s 807us/step - loss: 0.3358 - accuracy: 0.8615 - val_loss: 0.3619 - val_accuracy: 0.8535\n",
      "Epoch 96/100\n",
      "536/536 [==============================] - 1s 990us/step - loss: 0.3356 - accuracy: 0.8617 - val_loss: 0.3616 - val_accuracy: 0.8527\n",
      "Epoch 97/100\n",
      "536/536 [==============================] - 1s 975us/step - loss: 0.3354 - accuracy: 0.8617 - val_loss: 0.3618 - val_accuracy: 0.8527\n",
      "Epoch 98/100\n",
      "536/536 [==============================] - 0s 858us/step - loss: 0.3352 - accuracy: 0.8625 - val_loss: 0.3613 - val_accuracy: 0.8523\n",
      "Epoch 99/100\n",
      "536/536 [==============================] - 0s 811us/step - loss: 0.3350 - accuracy: 0.8610 - val_loss: 0.3609 - val_accuracy: 0.8519\n",
      "Epoch 100/100\n",
      "536/536 [==============================] - 0s 811us/step - loss: 0.3346 - accuracy: 0.8623 - val_loss: 0.3607 - val_accuracy: 0.8527\n"
     ]
    }
   ],
   "source": [
    "# Fitting the ANN to the Training set\n",
    "model_history=classifier.fit(X_train, y_train,validation_split=0.33, batch_size = 10, epochs = 100)"
   ]
  },
  {
   "cell_type": "code",
   "execution_count": 22,
   "id": "28124104",
   "metadata": {},
   "outputs": [],
   "source": [
    "# Predicting the Test set results\n",
    "y_pred = classifier.predict(X_test)\n",
    "y_pred = (y_pred > 0.5)"
   ]
  },
  {
   "cell_type": "code",
   "execution_count": 16,
   "id": "833f3c96",
   "metadata": {},
   "outputs": [],
   "source": [
    "# Making the Confusion Matrix\n",
    "from sklearn.metrics import confusion_matrix\n",
    "cm = confusion_matrix(y_test, y_pred)"
   ]
  },
  {
   "cell_type": "code",
   "execution_count": 18,
   "id": "c946aa2f",
   "metadata": {},
   "outputs": [
    {
     "data": {
      "text/plain": [
       "0.862"
      ]
     },
     "execution_count": 18,
     "metadata": {},
     "output_type": "execute_result"
    }
   ],
   "source": [
    "# Calculate the Accuracy\n",
    "from sklearn.metrics import accuracy_score\n",
    "score=accuracy_score(y_pred,y_test)\n",
    "score"
   ]
  },
  {
   "cell_type": "code",
   "execution_count": 20,
   "id": "b814a211",
   "metadata": {},
   "outputs": [
    {
     "name": "stdout",
     "output_type": "stream",
     "text": [
      "Model: \"sequential\"\n",
      "_________________________________________________________________\n",
      "Layer (type)                 Output Shape              Param #   \n",
      "=================================================================\n",
      "dense (Dense)                (None, 6)                 72        \n",
      "_________________________________________________________________\n",
      "dense_1 (Dense)              (None, 6)                 42        \n",
      "_________________________________________________________________\n",
      "dense_2 (Dense)              (None, 1)                 7         \n",
      "=================================================================\n",
      "Total params: 121\n",
      "Trainable params: 121\n",
      "Non-trainable params: 0\n",
      "_________________________________________________________________\n"
     ]
    }
   ],
   "source": [
    "classifier.summary()"
   ]
  },
  {
   "cell_type": "code",
   "execution_count": null,
   "id": "45601df4",
   "metadata": {},
   "outputs": [],
   "source": []
  }
 ],
 "metadata": {
  "kernelspec": {
   "display_name": "Python 3",
   "language": "python",
   "name": "python3"
  },
  "language_info": {
   "codemirror_mode": {
    "name": "ipython",
    "version": 3
   },
   "file_extension": ".py",
   "mimetype": "text/x-python",
   "name": "python",
   "nbconvert_exporter": "python",
   "pygments_lexer": "ipython3",
   "version": "3.9.2"
  }
 },
 "nbformat": 4,
 "nbformat_minor": 5
}
